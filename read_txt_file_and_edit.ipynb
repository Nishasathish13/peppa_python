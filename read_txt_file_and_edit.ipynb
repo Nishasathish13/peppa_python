{
  "nbformat": 4,
  "nbformat_minor": 0,
  "metadata": {
    "colab": {
      "name": "read .txt file and edit.ipynb",
      "provenance": [],
      "collapsed_sections": [],
      "authorship_tag": "ABX9TyN17oiiZp45MQTmDEpaQkQh",
      "include_colab_link": true
    },
    "kernelspec": {
      "name": "python3",
      "display_name": "Python 3"
    },
    "language_info": {
      "name": "python"
    }
  },
  "cells": [
    {
      "cell_type": "markdown",
      "metadata": {
        "id": "view-in-github",
        "colab_type": "text"
      },
      "source": [
        "<a href=\"https://colab.research.google.com/github/Nishasathish13/peppa_python/blob/main/read_txt_file_and_edit.ipynb\" target=\"_parent\"><img src=\"https://colab.research.google.com/assets/colab-badge.svg\" alt=\"Open In Colab\"/></a>"
      ]
    },
    {
      "cell_type": "code",
      "metadata": {
        "colab": {
          "base_uri": "https://localhost:8080/"
        },
        "id": "yU3Pe_PkJbJk",
        "outputId": "a503a835-40eb-41cd-b0dd-71265760c9a8"
      },
      "source": [
        "from google.colab import drive\n",
        "drive.mount('/content/drive')"
      ],
      "execution_count": null,
      "outputs": [
        {
          "output_type": "stream",
          "text": [
            "Mounted at /content/drive\n"
          ],
          "name": "stdout"
        }
      ]
    },
    {
      "cell_type": "code",
      "metadata": {
        "colab": {
          "base_uri": "https://localhost:8080/"
        },
        "id": "TWCw0xrKr8z6",
        "outputId": "f92afe6a-3ecf-4313-b38e-e4bba5608d3d"
      },
      "source": [
        "%cd /content/drive/MyDrive/Data/Muzzle_Images/yolo_good_bad_laptop/labels"
      ],
      "execution_count": null,
      "outputs": [
        {
          "output_type": "stream",
          "text": [
            "/content/drive/MyDrive/Data/Muzzle_Images/yolo_good_bad_laptop/labels\n"
          ],
          "name": "stdout"
        }
      ]
    },
    {
      "cell_type": "code",
      "metadata": {
        "colab": {
          "base_uri": "https://localhost:8080/"
        },
        "id": "bH0lh4rSUElt",
        "outputId": "5a45d9a2-b6f1-4b11-ec43-1f91831f5399"
      },
      "source": [
        "# fh=open('left_128.txt')\n",
        "# for line in fh:\n",
        "#   print(line)"
      ],
      "execution_count": null,
      "outputs": [
        {
          "output_type": "stream",
          "text": [
            "0 0.510299 0.349351 0.889475 0.539610\n",
            "\n"
          ],
          "name": "stdout"
        }
      ]
    },
    {
      "cell_type": "code",
      "metadata": {
        "id": "5bgDqfLaZM4R"
      },
      "source": [
        "import os\n",
        "path = os.listdir('/content/drive/MyDrive/Data/Muzzle_Images/yolo_good_bad_laptop/labels')\n",
        "\n",
        "for file in path:\n",
        "  with open(file) as fin:\n",
        "      lines = fin.readlines()\n",
        "      lines = lines[0].split(None, 1)\n",
        "      lines[0] = '2'\n",
        "      final = ' '.join(map(str, lines))\n",
        "\n",
        "  with open(file, 'w') as fout:\n",
        "      fout.write(''.join(final))"
      ],
      "execution_count": null,
      "outputs": []
    },
    {
      "cell_type": "code",
      "metadata": {
        "id": "SgGjPcOTbmaB"
      },
      "source": [
        ""
      ],
      "execution_count": null,
      "outputs": []
    }
  ]
}