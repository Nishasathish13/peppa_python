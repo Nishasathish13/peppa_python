{
  "nbformat": 4,
  "nbformat_minor": 0,
  "metadata": {
    "colab": {
      "name": "Renaming_files/folders.ipynb",
      "provenance": [],
      "collapsed_sections": [],
      "toc_visible": true,
      "authorship_tag": "ABX9TyNuwcxqAwIv6wX7qGyyPrhb",
      "include_colab_link": true
    },
    "kernelspec": {
      "name": "python3",
      "display_name": "Python 3"
    }
  },
  "cells": [
    {
      "cell_type": "markdown",
      "metadata": {
        "id": "view-in-github",
        "colab_type": "text"
      },
      "source": [
        "<a href=\"https://colab.research.google.com/github/Nishasathish13/peppa_python/blob/main/Renaming_files_folders.ipynb\" target=\"_parent\"><img src=\"https://colab.research.google.com/assets/colab-badge.svg\" alt=\"Open In Colab\"/></a>"
      ]
    },
    {
      "cell_type": "code",
      "metadata": {
        "colab": {
          "base_uri": "https://localhost:8080/"
        },
        "id": "qWvAEaSuUmc4",
        "outputId": "3ed93474-bb0d-46d0-9ea5-656b0b1caf01"
      },
      "source": [
        "from google.colab import drive\r\n",
        "drive.mount('/content/drive')"
      ],
      "execution_count": null,
      "outputs": [
        {
          "output_type": "stream",
          "text": [
            "Mounted at /content/drive\n"
          ],
          "name": "stdout"
        }
      ]
    },
    {
      "cell_type": "markdown",
      "metadata": {
        "id": "9k7gnpxWWevp"
      },
      "source": [
        "#renaming the files in a folder using sequence"
      ]
    },
    {
      "cell_type": "code",
      "metadata": {
        "id": "7UHIVwjFVDGe"
      },
      "source": [
        "import os\r\n",
        "folderpath = r\"/content/drive/MyDrive/Data/Muzzle_Images/yolo_fake_real/multiple_mobile_testing/Vinodh_8/8_fake_40\"\r\n",
        "filenumber = 1\r\n",
        "\r\n",
        "for filename in os.listdir(folderpath):\r\n",
        "  os.rename(folderpath + \"/\" + filename, folderpath + \"/\" + \"vinodh_fake_\" + str(filenumber) + \".jpg\")\r\n",
        "  filenumber += 1"
      ],
      "execution_count": null,
      "outputs": []
    },
    {
      "cell_type": "markdown",
      "metadata": {
        "id": "wcEnk3t9Y0Hs"
      },
      "source": [
        "#to remove .jpg files from annotation folder"
      ]
    },
    {
      "cell_type": "code",
      "metadata": {
        "id": "CbNxNIIgV-xP"
      },
      "source": [
        "import os\r\n",
        "folderpath = r\"/content/drive/MyDrive/Data/Muzzle_Images/yolo_fake_real/multiple_mobile_testing/annotation_real\"\r\n",
        "\r\n",
        "filtered_files = [file for file in os.listdir(folderpath) if file.endswith(\".jpg\")]\r\n",
        "for file in filtered_files:\r\n",
        "\tpath_to_file = os.path.join(folderpath, file)\r\n",
        "\tos.remove(path_to_file)"
      ],
      "execution_count": null,
      "outputs": []
    },
    {
      "cell_type": "markdown",
      "metadata": {
        "id": "f9hB3MO5zMmv"
      },
      "source": [
        "#To display no. of files in folder"
      ]
    },
    {
      "cell_type": "code",
      "metadata": {
        "colab": {
          "base_uri": "https://localhost:8080/"
        },
        "id": "RLzweyFaYBIN",
        "outputId": "e3be44ca-41f3-46b6-af44-53fe2ed2b4bc"
      },
      "source": [
        "import os\r\n",
        "folderpath = r\"/content/drive/MyDrive/Data/Muzzle_Images/yolo_fake_real/multiple_mobile_testing/annotation_real\"\r\n",
        "list = os.listdir(folderpath) # dir is your directory path\r\n",
        "number_files = len(list)\r\n",
        "print (number_files)"
      ],
      "execution_count": null,
      "outputs": [
        {
          "output_type": "stream",
          "text": [
            "404\n"
          ],
          "name": "stdout"
        }
      ]
    },
    {
      "cell_type": "markdown",
      "metadata": {
        "id": "SaQxt3A8A6hP"
      },
      "source": [
        "#to get list of file names and convert to excel"
      ]
    },
    {
      "cell_type": "code",
      "metadata": {
        "id": "2rnnDEl30syh"
      },
      "source": [
        "import os\r\n",
        "import pandas as pd\r\n",
        "\r\n",
        "folderpath = r\"/content/drive/MyDrive/Data/Muzzle_Images/yolo_fake_real/multiple_mobile_testing/annotation_real\"\r\n",
        "\r\n",
        "imagenames = sorted(os.listdir(folderpath))\r\n",
        "imagenames[:5]\r\n",
        "\r\n",
        "df = pd.DataFrame(imagenames)\r\n",
        "df.head()\r\n",
        "df.to_excel(\"yolo_fr_multiple_real.xlsx\")"
      ],
      "execution_count": null,
      "outputs": []
    },
    {
      "cell_type": "code",
      "metadata": {
        "colab": {
          "base_uri": "https://localhost:8080/"
        },
        "id": "KxVeiXLJ00ox",
        "outputId": "0527c2c1-6ce6-4dbd-ef00-0b2c885e1a3b"
      },
      "source": [
        "%cd /content/drive/MyDrive/Data/Muzzle_Images/yolo_fake_real/multiple_mobile_testing\r\n",
        "df.shape\r\n",
        "df.to_excel(\"yolo_fr_multiple.xlsx\")"
      ],
      "execution_count": null,
      "outputs": [
        {
          "output_type": "stream",
          "text": [
            "/content/drive/MyDrive/Data/Muzzle_Images/yolo_fake_real/multiple_mobile_testing\n"
          ],
          "name": "stdout"
        }
      ]
    },
    {
      "cell_type": "code",
      "metadata": {
        "id": "aMM7HGbS12AD"
      },
      "source": [
        ""
      ],
      "execution_count": null,
      "outputs": []
    }
  ]
}